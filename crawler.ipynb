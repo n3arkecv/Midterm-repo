{
  "nbformat": 4,
  "nbformat_minor": 0,
  "metadata": {
    "colab": {
      "provenance": []
    },
    "kernelspec": {
      "name": "python3",
      "display_name": "Python 3"
    },
    "language_info": {
      "name": "python"
    }
  },
  "cells": [
    {
      "cell_type": "code",
      "source": [
        "import requests\n",
        "from bs4 import BeautifulSoup\n",
        "import json\n",
        "\n",
        "url = 'https://csie.asia.edu.tw/zh_tw/associate_professors_2'\n",
        "resp = requests.get(url)\n",
        "resp.encoding = 'utf-8'\n",
        "\n",
        "soup = BeautifulSoup(resp.text, 'html.parser')\n",
        "items = soup.find_all(text=lambda t: t.startswith(('姓名:', '研究領域:')))\n",
        "\n",
        "professors = []\n",
        "for i in range(0, len(items), 2):\n",
        "    name = items[i].replace('姓名:', '').split('(')[0].strip()\n",
        "    expertise = items[i+1].replace('研究領域:', '').strip()\n",
        "    professors.append({'name': name, 'expertise': expertise})\n",
        "\n",
        "with open('professors_expertise.json', 'w', encoding='utf-8') as f:\n",
        "    json.dump(professors, f, ensure_ascii=False, indent=2)"
      ],
      "metadata": {
        "colab": {
          "base_uri": "https://localhost:8080/"
        },
        "id": "tc2DHlp_F256",
        "outputId": "53a4968a-fed3-4386-dee7-258ddd6db63f"
      },
      "execution_count": 3,
      "outputs": [
        {
          "output_type": "stream",
          "name": "stderr",
          "text": [
            "<ipython-input-3-33d425165455>:10: DeprecationWarning: The 'text' argument to find()-type methods is deprecated. Use 'string' instead.\n",
            "  items = soup.find_all(text=lambda t: t.startswith(('姓名:', '研究領域:')))\n"
          ]
        }
      ]
    }
  ]
}
